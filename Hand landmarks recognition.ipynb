{
 "cells": [
  {
   "cell_type": "code",
   "execution_count": 6,
   "id": "cf5ad8fa-8c0e-43cd-bbf3-451a0e8cab2a",
   "metadata": {},
   "outputs": [],
   "source": [
    "import cv2\n",
    "import time\n",
    "import mediapipe"
   ]
  },
  {
   "cell_type": "code",
   "execution_count": 7,
   "id": "43733519-b46d-43b3-a53e-0cc9b3bbb142",
   "metadata": {},
   "outputs": [],
   "source": [
    "cap = cv2.VideoCapture(0)\n",
    "mphands=  mediapipe.solutions.hands\n",
    "hands =  mphands.Hands()\n",
    "mpDraw=  mediapipe.solutions.drawing_utils\n",
    "while True:\n",
    "    _, img = cap.read()\n",
    "    imgRGB = cv2.cvtColor(img , cv2.COLOR_BGR2RGB);\n",
    "    results =  hands.process(imgRGB)\n",
    "    if results.multi_hand_landmarks:\n",
    "        for handLms in results.multi_hand_landmarks:\n",
    "            mpDraw.draw_landmarks(img,handLms,mphands.HAND_CONNECTIONS)\n",
    "    cv2.imshow(\"frame\", img)\n",
    "    if cv2.waitKey(1) & 0xFF == ord('q'):\n",
    "        break\n",
    "\n",
    "cap.release()\n",
    "cv2.destroyAllWindows()"
   ]
  },
  {
   "cell_type": "code",
   "execution_count": null,
   "id": "adc0ab33-254a-439f-b9e5-398072f5cf6a",
   "metadata": {},
   "outputs": [],
   "source": []
  }
 ],
 "metadata": {
  "kernelspec": {
   "display_name": "Python 3 (ipykernel)",
   "language": "python",
   "name": "python3"
  },
  "language_info": {
   "codemirror_mode": {
    "name": "ipython",
    "version": 3
   },
   "file_extension": ".py",
   "mimetype": "text/x-python",
   "name": "python",
   "nbconvert_exporter": "python",
   "pygments_lexer": "ipython3",
   "version": "3.12.4"
  }
 },
 "nbformat": 4,
 "nbformat_minor": 5
}
